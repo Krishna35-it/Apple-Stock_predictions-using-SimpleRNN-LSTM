{
 "cells": [
  {
   "cell_type": "code",
   "execution_count": 13,
   "id": "e7a0ae08-4230-4b26-8b14-432827305b37",
   "metadata": {},
   "outputs": [],
   "source": [
    "#Importing necessary libraries\n",
    "import pandas as pd\n",
    "import numpy as np\n",
    "import matplotlib.pyplot as plt\n",
    "import seaborn as sns\n",
    "from sklearn.preprocessing import MinMaxScaler\n",
    "from sklearn.model_selection import train_test_split\n",
    "from sklearn.metrics import mean_squared_error\n",
    "import tensorflow as tf\n",
    "from tensorflow.keras.models import Sequential\n",
    "from tensorflow.keras.layers import SimpleRNN,Dense,Dropout\n",
    "from tensorflow.keras.callbacks import EarlyStopping,ModelCheckpoint\n",
    "from tensorflow.keras.optimizers import Adam\n",
    "import warnings\n",
    "warnings.filterwarnings('ignore')"
   ]
  },
  {
   "cell_type": "code",
   "execution_count": 15,
   "id": "bc57d403-4798-4fcd-98cc-c5060121c409",
   "metadata": {},
   "outputs": [
    {
     "data": {
      "text/html": [
       "<div>\n",
       "<style scoped>\n",
       "    .dataframe tbody tr th:only-of-type {\n",
       "        vertical-align: middle;\n",
       "    }\n",
       "\n",
       "    .dataframe tbody tr th {\n",
       "        vertical-align: top;\n",
       "    }\n",
       "\n",
       "    .dataframe thead th {\n",
       "        text-align: right;\n",
       "    }\n",
       "</style>\n",
       "<table border=\"1\" class=\"dataframe\">\n",
       "  <thead>\n",
       "    <tr style=\"text-align: right;\">\n",
       "      <th></th>\n",
       "      <th>Date</th>\n",
       "      <th>Open</th>\n",
       "      <th>High</th>\n",
       "      <th>Low</th>\n",
       "      <th>Close</th>\n",
       "      <th>Adj Close</th>\n",
       "      <th>Volume</th>\n",
       "    </tr>\n",
       "  </thead>\n",
       "  <tbody>\n",
       "    <tr>\n",
       "      <th>0</th>\n",
       "      <td>1980-12-12</td>\n",
       "      <td>0.513393</td>\n",
       "      <td>0.515625</td>\n",
       "      <td>0.513393</td>\n",
       "      <td>0.513393</td>\n",
       "      <td>0.407747</td>\n",
       "      <td>117258400.0</td>\n",
       "    </tr>\n",
       "    <tr>\n",
       "      <th>1</th>\n",
       "      <td>1980-12-15</td>\n",
       "      <td>0.488839</td>\n",
       "      <td>0.488839</td>\n",
       "      <td>0.486607</td>\n",
       "      <td>0.486607</td>\n",
       "      <td>0.386473</td>\n",
       "      <td>43971200.0</td>\n",
       "    </tr>\n",
       "    <tr>\n",
       "      <th>2</th>\n",
       "      <td>1980-12-16</td>\n",
       "      <td>0.453125</td>\n",
       "      <td>0.453125</td>\n",
       "      <td>0.450893</td>\n",
       "      <td>0.450893</td>\n",
       "      <td>0.358108</td>\n",
       "      <td>26432000.0</td>\n",
       "    </tr>\n",
       "    <tr>\n",
       "      <th>3</th>\n",
       "      <td>1980-12-17</td>\n",
       "      <td>0.462054</td>\n",
       "      <td>0.464286</td>\n",
       "      <td>0.462054</td>\n",
       "      <td>0.462054</td>\n",
       "      <td>0.366972</td>\n",
       "      <td>21610400.0</td>\n",
       "    </tr>\n",
       "    <tr>\n",
       "      <th>4</th>\n",
       "      <td>1980-12-18</td>\n",
       "      <td>0.475446</td>\n",
       "      <td>0.477679</td>\n",
       "      <td>0.475446</td>\n",
       "      <td>0.475446</td>\n",
       "      <td>0.377609</td>\n",
       "      <td>18362400.0</td>\n",
       "    </tr>\n",
       "  </tbody>\n",
       "</table>\n",
       "</div>"
      ],
      "text/plain": [
       "         Date      Open      High       Low     Close  Adj Close       Volume\n",
       "0  1980-12-12  0.513393  0.515625  0.513393  0.513393   0.407747  117258400.0\n",
       "1  1980-12-15  0.488839  0.488839  0.486607  0.486607   0.386473   43971200.0\n",
       "2  1980-12-16  0.453125  0.453125  0.450893  0.450893   0.358108   26432000.0\n",
       "3  1980-12-17  0.462054  0.464286  0.462054  0.462054   0.366972   21610400.0\n",
       "4  1980-12-18  0.475446  0.477679  0.475446  0.475446   0.377609   18362400.0"
      ]
     },
     "execution_count": 15,
     "metadata": {},
     "output_type": "execute_result"
    }
   ],
   "source": [
    "#Loading the dataset\n",
    "df = pd.read_csv('AAPL.csv')\n",
    "df.head()"
   ]
  },
  {
   "cell_type": "code",
   "execution_count": 17,
   "id": "bf5fb5e0-1bcd-48ab-8804-1d89d8e58b0a",
   "metadata": {},
   "outputs": [
    {
     "name": "stdout",
     "output_type": "stream",
     "text": [
      "<class 'pandas.core.frame.DataFrame'>\n",
      "RangeIndex: 9823 entries, 0 to 9822\n",
      "Data columns (total 7 columns):\n",
      " #   Column     Non-Null Count  Dtype  \n",
      "---  ------     --------------  -----  \n",
      " 0   Date       9823 non-null   object \n",
      " 1   Open       9822 non-null   float64\n",
      " 2   High       9822 non-null   float64\n",
      " 3   Low        9822 non-null   float64\n",
      " 4   Close      9822 non-null   float64\n",
      " 5   Adj Close  9822 non-null   float64\n",
      " 6   Volume     9822 non-null   float64\n",
      "dtypes: float64(6), object(1)\n",
      "memory usage: 537.3+ KB\n"
     ]
    }
   ],
   "source": [
    "#Date Pre-processing\n",
    "#Getting basic info\n",
    "df.info()"
   ]
  },
  {
   "cell_type": "code",
   "execution_count": 19,
   "id": "09c5d92f-fc04-4223-b7cc-725eb8bd9e51",
   "metadata": {},
   "outputs": [],
   "source": [
    "#Date column is in object data type so converting it into datatime data type\n",
    "df['Date'] = pd.to_datetime(df['Date'])"
   ]
  },
  {
   "cell_type": "code",
   "execution_count": 21,
   "id": "635dc6c6-830f-4a81-8105-88c55225ef50",
   "metadata": {},
   "outputs": [
    {
     "name": "stdout",
     "output_type": "stream",
     "text": [
      "<class 'pandas.core.frame.DataFrame'>\n",
      "RangeIndex: 9823 entries, 0 to 9822\n",
      "Data columns (total 7 columns):\n",
      " #   Column     Non-Null Count  Dtype         \n",
      "---  ------     --------------  -----         \n",
      " 0   Date       9823 non-null   datetime64[ns]\n",
      " 1   Open       9822 non-null   float64       \n",
      " 2   High       9822 non-null   float64       \n",
      " 3   Low        9822 non-null   float64       \n",
      " 4   Close      9822 non-null   float64       \n",
      " 5   Adj Close  9822 non-null   float64       \n",
      " 6   Volume     9822 non-null   float64       \n",
      "dtypes: datetime64[ns](1), float64(6)\n",
      "memory usage: 537.3 KB\n"
     ]
    }
   ],
   "source": [
    "#Checking info\n",
    "df.info()"
   ]
  },
  {
   "cell_type": "code",
   "execution_count": 23,
   "id": "94623e26-c6e8-423c-8599-9de5b2cad0c2",
   "metadata": {},
   "outputs": [
    {
     "data": {
      "text/plain": [
       "(9823, 7)"
      ]
     },
     "execution_count": 23,
     "metadata": {},
     "output_type": "execute_result"
    }
   ],
   "source": [
    "#Getting the shape of the dataframe\n",
    "df.shape"
   ]
  },
  {
   "cell_type": "code",
   "execution_count": 25,
   "id": "2048708d-0bec-4b69-bf48-c261f792ebab",
   "metadata": {},
   "outputs": [
    {
     "data": {
      "text/html": [
       "<div>\n",
       "<style scoped>\n",
       "    .dataframe tbody tr th:only-of-type {\n",
       "        vertical-align: middle;\n",
       "    }\n",
       "\n",
       "    .dataframe tbody tr th {\n",
       "        vertical-align: top;\n",
       "    }\n",
       "\n",
       "    .dataframe thead th {\n",
       "        text-align: right;\n",
       "    }\n",
       "</style>\n",
       "<table border=\"1\" class=\"dataframe\">\n",
       "  <thead>\n",
       "    <tr style=\"text-align: right;\">\n",
       "      <th></th>\n",
       "      <th>Open</th>\n",
       "      <th>High</th>\n",
       "      <th>Low</th>\n",
       "      <th>Close</th>\n",
       "      <th>Adj Close</th>\n",
       "      <th>Volume</th>\n",
       "    </tr>\n",
       "    <tr>\n",
       "      <th>Date</th>\n",
       "      <th></th>\n",
       "      <th></th>\n",
       "      <th></th>\n",
       "      <th></th>\n",
       "      <th></th>\n",
       "      <th></th>\n",
       "    </tr>\n",
       "  </thead>\n",
       "  <tbody>\n",
       "    <tr>\n",
       "      <th>1980-12-12</th>\n",
       "      <td>0.513393</td>\n",
       "      <td>0.515625</td>\n",
       "      <td>0.513393</td>\n",
       "      <td>0.513393</td>\n",
       "      <td>0.407747</td>\n",
       "      <td>117258400.0</td>\n",
       "    </tr>\n",
       "    <tr>\n",
       "      <th>1980-12-15</th>\n",
       "      <td>0.488839</td>\n",
       "      <td>0.488839</td>\n",
       "      <td>0.486607</td>\n",
       "      <td>0.486607</td>\n",
       "      <td>0.386473</td>\n",
       "      <td>43971200.0</td>\n",
       "    </tr>\n",
       "    <tr>\n",
       "      <th>1980-12-16</th>\n",
       "      <td>0.453125</td>\n",
       "      <td>0.453125</td>\n",
       "      <td>0.450893</td>\n",
       "      <td>0.450893</td>\n",
       "      <td>0.358108</td>\n",
       "      <td>26432000.0</td>\n",
       "    </tr>\n",
       "    <tr>\n",
       "      <th>1980-12-17</th>\n",
       "      <td>0.462054</td>\n",
       "      <td>0.464286</td>\n",
       "      <td>0.462054</td>\n",
       "      <td>0.462054</td>\n",
       "      <td>0.366972</td>\n",
       "      <td>21610400.0</td>\n",
       "    </tr>\n",
       "    <tr>\n",
       "      <th>1980-12-18</th>\n",
       "      <td>0.475446</td>\n",
       "      <td>0.477679</td>\n",
       "      <td>0.475446</td>\n",
       "      <td>0.475446</td>\n",
       "      <td>0.377609</td>\n",
       "      <td>18362400.0</td>\n",
       "    </tr>\n",
       "  </tbody>\n",
       "</table>\n",
       "</div>"
      ],
      "text/plain": [
       "                Open      High       Low     Close  Adj Close       Volume\n",
       "Date                                                                      \n",
       "1980-12-12  0.513393  0.515625  0.513393  0.513393   0.407747  117258400.0\n",
       "1980-12-15  0.488839  0.488839  0.486607  0.486607   0.386473   43971200.0\n",
       "1980-12-16  0.453125  0.453125  0.450893  0.450893   0.358108   26432000.0\n",
       "1980-12-17  0.462054  0.464286  0.462054  0.462054   0.366972   21610400.0\n",
       "1980-12-18  0.475446  0.477679  0.475446  0.475446   0.377609   18362400.0"
      ]
     },
     "execution_count": 25,
     "metadata": {},
     "output_type": "execute_result"
    }
   ],
   "source": [
    "#Setting Date column as index\n",
    "df.set_index('Date',inplace=True)\n",
    "df.head()"
   ]
  },
  {
   "cell_type": "code",
   "execution_count": 27,
   "id": "00d4ad87-fb01-4baf-bef1-b4a10c04be5f",
   "metadata": {},
   "outputs": [
    {
     "data": {
      "text/plain": [
       "Open         1\n",
       "High         1\n",
       "Low          1\n",
       "Close        1\n",
       "Adj Close    1\n",
       "Volume       1\n",
       "dtype: int64"
      ]
     },
     "execution_count": 27,
     "metadata": {},
     "output_type": "execute_result"
    }
   ],
   "source": [
    "#Checking null values\n",
    "df.isnull().sum()"
   ]
  },
  {
   "cell_type": "code",
   "execution_count": 29,
   "id": "35392bb3-7bb4-4fc1-8a3e-c9708a05379c",
   "metadata": {},
   "outputs": [],
   "source": [
    "#There is one missing value - Since Stock prices are sequential, dropping values is not the best approach\n",
    "#Using Forward Fill(Where it fills with the previous days values)\n",
    "\n",
    "df.fillna(method='ffill',inplace=True)"
   ]
  },
  {
   "cell_type": "code",
   "execution_count": 31,
   "id": "1e29b17a-1589-457f-a8c4-b7d079935eed",
   "metadata": {},
   "outputs": [
    {
     "data": {
      "text/plain": [
       "Open         0\n",
       "High         0\n",
       "Low          0\n",
       "Close        0\n",
       "Adj Close    0\n",
       "Volume       0\n",
       "dtype: int64"
      ]
     },
     "execution_count": 31,
     "metadata": {},
     "output_type": "execute_result"
    }
   ],
   "source": [
    "#Checking for null values\n",
    "df.isnull().sum()"
   ]
  },
  {
   "cell_type": "code",
   "execution_count": 33,
   "id": "a233dc6d-45c7-4bfc-9566-27f159809905",
   "metadata": {},
   "outputs": [
    {
     "data": {
      "image/png": "[encoded data removed]",
      "text/plain": [
       "<Figure size 1200x500 with 1 Axes>"
      ]
     },
     "metadata": {},
     "output_type": "display_data"
    }
   ],
   "source": [
    "#Visulaization\n",
    "#Selecting the adjusted Close column\n",
    "df = df[['Adj Close']]\n",
    "\n",
    "#Plotting\n",
    "plt.figure(figsize=(12,5))\n",
    "plt.plot(df,label='Apple Stock Price')\n",
    "plt.title('Apple Stock Price')\n",
    "plt.xlabel('Year')\n",
    "plt.ylabel('Price')\n",
    "plt.legend()\n",
    "plt.show()"
   ]
  },
  {
   "cell_type": "code",
   "execution_count": 35,
   "id": "5de4a69f-69fe-4582-84b1-dbde3f6ad8c8",
   "metadata": {},
   "outputs": [
    {
     "data": {
      "text/html": [
       "<div>\n",
       "<style scoped>\n",
       "    .dataframe tbody tr th:only-of-type {\n",
       "        vertical-align: middle;\n",
       "    }\n",
       "\n",
       "    .dataframe tbody tr th {\n",
       "        vertical-align: top;\n",
       "    }\n",
       "\n",
       "    .dataframe thead th {\n",
       "        text-align: right;\n",
       "    }\n",
       "</style>\n",
       "<table border=\"1\" class=\"dataframe\">\n",
       "  <thead>\n",
       "    <tr style=\"text-align: right;\">\n",
       "      <th></th>\n",
       "      <th>Adj Close</th>\n",
       "    </tr>\n",
       "    <tr>\n",
       "      <th>Date</th>\n",
       "      <th></th>\n",
       "    </tr>\n",
       "  </thead>\n",
       "  <tbody>\n",
       "    <tr>\n",
       "      <th>1980-12-12</th>\n",
       "      <td>0.000943</td>\n",
       "    </tr>\n",
       "    <tr>\n",
       "      <th>1980-12-15</th>\n",
       "      <td>0.000863</td>\n",
       "    </tr>\n",
       "    <tr>\n",
       "      <th>1980-12-16</th>\n",
       "      <td>0.000757</td>\n",
       "    </tr>\n",
       "    <tr>\n",
       "      <th>1980-12-17</th>\n",
       "      <td>0.000790</td>\n",
       "    </tr>\n",
       "    <tr>\n",
       "      <th>1980-12-18</th>\n",
       "      <td>0.000830</td>\n",
       "    </tr>\n",
       "  </tbody>\n",
       "</table>\n",
       "</div>"
      ],
      "text/plain": [
       "            Adj Close\n",
       "Date                 \n",
       "1980-12-12   0.000943\n",
       "1980-12-15   0.000863\n",
       "1980-12-16   0.000757\n",
       "1980-12-17   0.000790\n",
       "1980-12-18   0.000830"
      ]
     },
     "execution_count": 35,
     "metadata": {},
     "output_type": "execute_result"
    }
   ],
   "source": [
    "#Data Preparation for modelling\n",
    "#Using Min-Max scaler as neural networks works best when features are scaled\n",
    "\n",
    "#Initializing the scaler\n",
    "scaler = MinMaxScaler(feature_range=(0,1))\n",
    "\n",
    "#Fitting and transforming the data\n",
    "df_scaled = scaler.fit_transform(df)\n",
    "\n",
    "#Converting back to the dataframe\n",
    "df_scaled = pd.DataFrame(df_scaled,index=df.index,columns=['Adj Close'])\n",
    "\n",
    "#Checking the new dataframe\n",
    "df_scaled.head()"
   ]
  },
  {
   "cell_type": "code",
   "execution_count": 37,
   "id": "0c178c6d-9fc6-45c2-b540-ee69269f9e05",
   "metadata": {},
   "outputs": [],
   "source": [
    "# Definining function to create sequences for RNN\n",
    "def create_sequences(data, time_steps):\n",
    "    data = np.array(data)\n",
    "    X, y = [], []\n",
    "    for i in range(len(data) - time_steps):\n",
    "        X.append(data[i:i + time_steps])  # Past 'time_steps' days\n",
    "        y.append(data[i + time_steps, 0])  # Next day's price value[1D array]\n",
    "    return np.array(X), np.array(y)"
   ]
  },
  {
   "cell_type": "code",
   "execution_count": 39,
   "id": "851957da-1499-4c9a-9ea9-197a88b1b5d6",
   "metadata": {},
   "outputs": [
    {
     "name": "stdout",
     "output_type": "stream",
     "text": [
      "X Shape: (9763, 60, 1), y Shape: (9763,)\n"
     ]
    }
   ],
   "source": [
    "#Applying the function\n",
    "stock_prices = df_scaled.to_numpy() #Selecting Adj Clos Column\n",
    "\n",
    "#Defining time_step(lookback period)\n",
    "time_steps = 60\n",
    "\n",
    "#Creating Sequences \n",
    "X,y = create_sequences(df_scaled,time_steps)\n",
    "\n",
    "print(f\"X Shape: {X.shape}, y Shape: {y.shape}\")"
   ]
  },
  {
   "cell_type": "code",
   "execution_count": 41,
   "id": "4af0efda-7a47-49fd-b9a1-556cec7820d2",
   "metadata": {},
   "outputs": [],
   "source": [
    "# Reshape X for SimpleRNN (samples, time_steps, features)\n",
    "X = X.reshape((X.shape[0], X.shape[1], 1))"
   ]
  },
  {
   "cell_type": "code",
   "execution_count": 43,
   "id": "6795396d-d7e8-41c6-b747-4d6b38412658",
   "metadata": {},
   "outputs": [
    {
     "name": "stdout",
     "output_type": "stream",
     "text": [
      "Train Shape: (7810, 60, 1), Test Shape: (1953, 60, 1)\n"
     ]
    }
   ],
   "source": [
    "# Splitting the data into training and testing sets\n",
    "X_train, X_test, y_train, y_test = train_test_split(X, y, test_size=0.2, shuffle=False)\n",
    "\n",
    "print(f\"Train Shape: {X_train.shape}, Test Shape: {X_test.shape}\")"
   ]
  },
  {
   "cell_type": "code",
   "execution_count": 45,
   "id": "8f72a374-5ef2-402d-a84e-bf0e2142593f",
   "metadata": {},
   "outputs": [
    {
     "name": "stderr",
     "output_type": "stream",
     "text": [
      "WARNING:absl:Compiled the loaded model, but the compiled metrics have yet to be built. `model.compile_metrics` will be empty until you train or evaluate the model.\n"
     ]
    }
   ],
   "source": [
    "from tensorflow.keras.models import load_model\n",
    "\n",
    "# Load the saved model\n",
    "model = load_model(\"Final_AAPL_SimpleRNN.h5\")"
   ]
  },
  {
   "cell_type": "code",
   "execution_count": 47,
   "id": "228dc468-e9c5-417b-b24b-3ddea52001e3",
   "metadata": {},
   "outputs": [
    {
     "name": "stdout",
     "output_type": "stream",
     "text": [
      "\u001b[1m62/62\u001b[0m \u001b[32m━━━━━━━━━━━━━━━━━━━━\u001b[0m\u001b[37m\u001b[0m \u001b[1m0s\u001b[0m 4ms/step\n"
     ]
    }
   ],
   "source": [
    "#Predicting the stock prices for the test data\n",
    "pred_stock_prices = model.predict(X_test)"
   ]
  },
  {
   "cell_type": "code",
   "execution_count": 49,
   "id": "1d7645e2-b9cd-42dd-948e-52103638cd49",
   "metadata": {},
   "outputs": [],
   "source": [
    "#Converting predictions back to actual prices\n",
    "pred_stock_prices = scaler.inverse_transform(pred_stock_prices)\n",
    "actual_stock_prices = scaler.inverse_transform(y_test.reshape(-1,1))"
   ]
  },
  {
   "cell_type": "code",
   "execution_count": 51,
   "id": "2177902c-ada2-4a88-bef7-234ca277d82b",
   "metadata": {},
   "outputs": [
    {
     "name": "stdout",
     "output_type": "stream",
     "text": [
      "Mean Squared Error(MSE) : 18.370028660377844\n"
     ]
    }
   ],
   "source": [
    "#Calculating MSE \n",
    "mse = mean_squared_error(actual_stock_prices,pred_stock_prices)\n",
    "print(f\"Mean Squared Error(MSE) : {mse}\")"
   ]
  },
  {
   "cell_type": "code",
   "execution_count": 57,
   "id": "1e4ad48f-e2ef-49b7-862d-752b35f8aeda",
   "metadata": {},
   "outputs": [
    {
     "data": {
      "image/png": "[encoded data removed]",
      "text/plain": [
       "<Figure size 1200x600 with 1 Axes>"
      ]
     },
     "metadata": {},
     "output_type": "display_data"
    }
   ],
   "source": [
    "#Visualizing the actual and predicted stock prices\n",
    "dates = df.index[-len(actual_stock_prices):]\n",
    "plt.figure(figsize=(12,6))\n",
    "plt.plot(dates,actual_stock_prices,label = 'Actual Prices',color = 'blue')\n",
    "plt.plot(dates,pred_stock_prices,label = 'Predicted Prices', color='red',linestyle = 'dashed')\n",
    "plt.xlabel('Date')\n",
    "plt.ylabel('Stock Price')\n",
    "plt.title(\"Actual vs Predicted Prices\")\n",
    "plt.legend()\n",
    "plt.grid()\n",
    "plt.show()"
   ]
  },
  {
   "cell_type": "code",
   "execution_count": null,
   "id": "d2664c4b-b5b9-45d9-ba28-5db5c275deb4",
   "metadata": {},
   "outputs": [],
   "source": []
  },
  {
   "cell_type": "code",
   "execution_count": null,
   "id": "99442a72-180f-4a92-a356-feb13086dca7",
   "metadata": {},
   "outputs": [],
   "source": []
  }
 ],
 "metadata": {
  "kernelspec": {
   "display_name": "Python 3 (ipykernel)",
   "language": "python",
   "name": "python3"
  },
  "language_info": {
   "codemirror_mode": {
    "name": "ipython",
    "version": 3
   },
   "file_extension": ".py",
   "mimetype": "text/x-python",
   "name": "python",
   "nbconvert_exporter": "python",
   "pygments_lexer": "ipython3",
   "version": "3.12.7"
  }
 },
 "nbformat": 4,
 "nbformat_minor": 5
}
